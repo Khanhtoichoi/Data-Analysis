{
 "cells": [
  {
   "metadata": {},
   "cell_type": "markdown",
   "source": "Data Cleaning and Preprocessing",
   "id": "a6ddce7ab1911f6f"
  },
  {
   "cell_type": "code",
   "id": "initial_id",
   "metadata": {
    "collapsed": true,
    "ExecuteTime": {
     "end_time": "2024-06-04T13:13:55.816551Z",
     "start_time": "2024-06-04T13:13:52.439948Z"
    }
   },
   "source": [
    "import pandas as pd\n",
    "import numpy as np\n",
    "import matplotlib.pyplot as plt\n",
    "# Read csv file\n",
    "df = pd.read_csv('commits.csv')\n",
    "df['Commited Date'] = pd.to_datetime(df['Commited Date'])\n",
    "df = df.sort_values(by='Commited Date')\n",
    "df.index = [i for i in range(1,df.shape[0]+1)]\n",
    "\n",
    "# Correcting the Contributor column\n",
    "for i in range(1,df.shape[0]+1):\n",
    "    if df.loc[i,'Author'] == df.loc[i,'Contributor']:\n",
    "        df.loc[i,'Contributor'] = df.loc[i,'Author'].replace(' ','')\n",
    "# Detect which Authors changed their Github name and change their Contributor id to the latest time\n",
    "dict = {df.loc[i,'Author'] : df.loc[i,'Contributor'] for i in range(1,df.shape[0]+1)}\n",
    "for i in range(1,df.shape[0]+1):\n",
    "    df.loc[i,'Contributor'] = dict[df.loc[i,'Author']]\n",
    "# Set commited date as index\n",
    "df.set_index('Commited Date', inplace=True)\n",
    "df['Author'].unique().size == df['Contributor'].unique().size"
   ],
   "outputs": [
    {
     "data": {
      "text/plain": [
       "True"
      ]
     },
     "execution_count": 2,
     "metadata": {},
     "output_type": "execute_result"
    }
   ],
   "execution_count": 2
  },
  {
   "metadata": {
    "ExecuteTime": {
     "end_time": "2024-06-04T13:13:58.579099Z",
     "start_time": "2024-06-04T13:13:58.561976Z"
    }
   },
   "cell_type": "code",
   "source": [
    "date_df = pd.DataFrame(index=np.unique(df.index.values))\n",
    "date_df['Count'] = (df.index.value_counts().get(date for date in date_df.index.values))\n",
    "date_df['Month'] = date_df.index.to_period('M')\n",
    "monthly_counts = date_df.groupby('Month')['Count'].sum()\n",
    "date_df"
   ],
   "id": "a3f407a77aa2c553",
   "outputs": [
    {
     "data": {
      "text/plain": [
       "            Count    Month\n",
       "2023-01-02     15  2023-01\n",
       "2023-01-03      5  2023-01\n",
       "2023-01-04      4  2023-01\n",
       "2023-01-05      3  2023-01\n",
       "2023-01-06      1  2023-01\n",
       "...           ...      ...\n",
       "2023-12-27      6  2023-12\n",
       "2023-12-28      7  2023-12\n",
       "2023-12-29      1  2023-12\n",
       "2023-12-30      3  2023-12\n",
       "2023-12-31      2  2023-12\n",
       "\n",
       "[327 rows x 2 columns]"
      ],
      "text/html": [
       "<div>\n",
       "<style scoped>\n",
       "    .dataframe tbody tr th:only-of-type {\n",
       "        vertical-align: middle;\n",
       "    }\n",
       "\n",
       "    .dataframe tbody tr th {\n",
       "        vertical-align: top;\n",
       "    }\n",
       "\n",
       "    .dataframe thead th {\n",
       "        text-align: right;\n",
       "    }\n",
       "</style>\n",
       "<table border=\"1\" class=\"dataframe\">\n",
       "  <thead>\n",
       "    <tr style=\"text-align: right;\">\n",
       "      <th></th>\n",
       "      <th>Count</th>\n",
       "      <th>Month</th>\n",
       "    </tr>\n",
       "  </thead>\n",
       "  <tbody>\n",
       "    <tr>\n",
       "      <th>2023-01-02</th>\n",
       "      <td>15</td>\n",
       "      <td>2023-01</td>\n",
       "    </tr>\n",
       "    <tr>\n",
       "      <th>2023-01-03</th>\n",
       "      <td>5</td>\n",
       "      <td>2023-01</td>\n",
       "    </tr>\n",
       "    <tr>\n",
       "      <th>2023-01-04</th>\n",
       "      <td>4</td>\n",
       "      <td>2023-01</td>\n",
       "    </tr>\n",
       "    <tr>\n",
       "      <th>2023-01-05</th>\n",
       "      <td>3</td>\n",
       "      <td>2023-01</td>\n",
       "    </tr>\n",
       "    <tr>\n",
       "      <th>2023-01-06</th>\n",
       "      <td>1</td>\n",
       "      <td>2023-01</td>\n",
       "    </tr>\n",
       "    <tr>\n",
       "      <th>...</th>\n",
       "      <td>...</td>\n",
       "      <td>...</td>\n",
       "    </tr>\n",
       "    <tr>\n",
       "      <th>2023-12-27</th>\n",
       "      <td>6</td>\n",
       "      <td>2023-12</td>\n",
       "    </tr>\n",
       "    <tr>\n",
       "      <th>2023-12-28</th>\n",
       "      <td>7</td>\n",
       "      <td>2023-12</td>\n",
       "    </tr>\n",
       "    <tr>\n",
       "      <th>2023-12-29</th>\n",
       "      <td>1</td>\n",
       "      <td>2023-12</td>\n",
       "    </tr>\n",
       "    <tr>\n",
       "      <th>2023-12-30</th>\n",
       "      <td>3</td>\n",
       "      <td>2023-12</td>\n",
       "    </tr>\n",
       "    <tr>\n",
       "      <th>2023-12-31</th>\n",
       "      <td>2</td>\n",
       "      <td>2023-12</td>\n",
       "    </tr>\n",
       "  </tbody>\n",
       "</table>\n",
       "<p>327 rows × 2 columns</p>\n",
       "</div>"
      ]
     },
     "execution_count": 3,
     "metadata": {},
     "output_type": "execute_result"
    }
   ],
   "execution_count": 3
  },
  {
   "metadata": {},
   "cell_type": "markdown",
   "source": "Top 5 Months with the most Commits",
   "id": "3481da9f4e6e610d"
  },
  {
   "metadata": {
    "ExecuteTime": {
     "end_time": "2024-06-04T13:14:07.297060Z",
     "start_time": "2024-06-04T13:14:07.287402Z"
    }
   },
   "cell_type": "code",
   "source": "monthly_counts.sort_values(ascending=False).head()",
   "id": "1cd84d58c9d1b090",
   "outputs": [
    {
     "data": {
      "text/plain": [
       "Month\n",
       "2023-08    280\n",
       "2023-07    273\n",
       "2023-09    266\n",
       "2023-10    255\n",
       "2023-11    207\n",
       "Freq: M, Name: Count, dtype: int64"
      ]
     },
     "execution_count": 4,
     "metadata": {},
     "output_type": "execute_result"
    }
   ],
   "execution_count": 4
  },
  {
   "metadata": {},
   "cell_type": "markdown",
   "source": "Visualization",
   "id": "e40a557e82a6c2a7"
  },
  {
   "metadata": {},
   "cell_type": "markdown",
   "source": "",
   "id": "b128a72ffc435b8"
  },
  {
   "metadata": {
    "ExecuteTime": {
     "end_time": "2024-06-04T13:14:09.619896Z",
     "start_time": "2024-06-04T13:14:09.442594Z"
    }
   },
   "cell_type": "code",
   "source": [
    "monthly_counts.plot.bar(ylabel=\"Number of Commits\", figsize=(14, 6))\n",
    "plt.xticks(rotation=0) \n",
    "plt.show()"
   ],
   "id": "64899afcca6e1c71",
   "outputs": [
    {
     "data": {
      "text/plain": [
       "<Figure size 1400x600 with 1 Axes>"
      ],
      "image/png": "[encoded data removed]"
     },
     "metadata": {},
     "output_type": "display_data"
    }
   ],
   "execution_count": 5
  },
  {
   "metadata": {},
   "cell_type": "markdown",
   "source": "",
   "id": "b9b369d7e2182d63"
  },
  {
   "metadata": {},
   "cell_type": "markdown",
   "source": "Total Contributors in 2023",
   "id": "2f6992edf452ec1"
  },
  {
   "metadata": {
    "ExecuteTime": {
     "end_time": "2024-06-04T13:14:11.570015Z",
     "start_time": "2024-06-04T13:14:11.551903Z"
    }
   },
   "cell_type": "code",
   "source": "df['Author'].unique()",
   "id": "eedb5aed1c05eb74",
   "outputs": [
    {
     "data": {
      "text/plain": [
       "array(['Zeeshan Tamboli', 'Olivier Tassinari', 'Benny Joo',\n",
       "       'renovate[bot]', 'Marija Najdova', 'Hamir Mahal', 'sai chand',\n",
       "       'Michał Dudak', 'Flavien DELANGLE', 'Zach Case', 'Matthew Soyka',\n",
       "       'Konrad Ryczko', 'Siriwat K', 'Sam Sycamore', 'Dara',\n",
       "       'miha53cevic', 'dependabot[bot]', 'Alexandre Fauquette', 'max',\n",
       "       'Alexander Trefonas', 'Lukas', 'Victor He', 'Volha Linkevich',\n",
       "       'fenghan34', 'Eng Zer Jun', 'Pubudu Dodangoda', 'oliv37',\n",
       "       'Rosita Dmello', 'Petyo Ivanov', 'Albert Yu',\n",
       "       'José Rodolfo Freitas', 'SaidMarar', 'Luke M', 'idebeijer',\n",
       "       'Vivek Prajapati', 'Mark Toman', 'Sebastian Silbermann', 'badal',\n",
       "       'Ali Gorji', 'Arthur Pedroti', 'Alex Ownejazayeri', 'Chuan yu',\n",
       "       'yoskeoka', 'Matheus Wichman', 'Sarah', 'Shorif', 'Danilo Leal',\n",
       "       'Donald33 Wang', 'Dawid Rusnak', 'Daniel Martín', 'Punit Soni',\n",
       "       'aleff menna resler', 'Vadim I', 'Jacob Parish', 'Bilal Shafi',\n",
       "       'Kiichi Tachibana', 'Makien Osman', 'Varun Mulay',\n",
       "       'Pontus Hjortskog', 'Kundan', 'Andrew Cherniavskii', 'Lynx',\n",
       "       'Kuba', 'Ray Wong', 'Erik Moura', 'Kevin Soruco', 'hrutik7',\n",
       "       'JR99', 'Davi Figueiredo', 'Pratik Karad', 'Gabriel Moraes',\n",
       "       'michalak111', 'mikailaread', 'Denis Zavershinskiy',\n",
       "       'Hedi M. Sharif', 'Roman Hotsiy',\n",
       "       'RAMANOHISOA Tahina Faniry Willy', 'Devin Lane',\n",
       "       'Victor de la Fouchardière', 'RBerthier', 'GitStart',\n",
       "       'Amal Mathew', 'Yushan Fernando', 'Lioness100', 'alireza hekmati',\n",
       "       'navedqb', 'Emil Laine', '안준형', 'Keyvan Mosharraf',\n",
       "       'Jessica Pinheiro', 'Tomáš Kebrle', 'PupoSDC', 'TakhyunKim',\n",
       "       'Max Destors', 'Jakub Šťastný', 'Nicolas Ot', 'DavidBoyer11',\n",
       "       'Gerda', 'ux', 'Timon Jurschitsch', 'Rom Grk', 'Uli',\n",
       "       'Akash Agarwal', 'Krzysztof Witkowski', 'Vivek Kumar',\n",
       "       'Danail Hadjiatanasov', 'VelociRaptor', 'Mauwaz N', 'Rich Bustos',\n",
       "       'binh1298', 'Jakob Guddas', 'AmirReza', 'Victor Zanivan Monteiro',\n",
       "       'Diego Andai', 'Bastian Oppermann', 'kkocdko', 'cccEric',\n",
       "       'Nick Iaconis', 'Brijesh Bittu', 'TinaSay', 'Jhonatan',\n",
       "       'David Cnoops', 'Necati Özmen', 'Caleb Cox', 'danielplewes',\n",
       "       'vishalthatipamula0219', 'Steve Ernstberger', 'Bharat Kashyap',\n",
       "       'musama619', 'Diwakar Kashyap', 'Vinay', 'Saad Khan', 'Jan Potoms',\n",
       "       'Jannis Hell', 'Bence Vörös', 'abhinavkmrru', 'smo043',\n",
       "       'Bablu Ahmed', 'Saikat Halder', 'weipeng', 'Dlouxgit',\n",
       "       'Mark Gatere', 'Jonas Auer', 'Muhammad Usman Khilji',\n",
       "       'Piyush Pandey', 'Adam Sundberg', 'Dmitry Maganov', 'Yannick',\n",
       "       'MaybePixem', 'Enrique Ramírez', 'Nathan Bierema', 'Rajdeep singh',\n",
       "       'Eric Coffman', 'Divyam Madhok', 'Om Prakash', 'OndrejHj04',\n",
       "       'Prakhar Gupta', 'Onur Önder', 'Bestwebdesign', 'Matt',\n",
       "       'Ignacio Utrilla', 'Niko Hoffrén', 'Harikrishnan P',\n",
       "       'SAI KIRAN DANNANA', 'Raffaella Luzi Stoutland',\n",
       "       'Emmanuel Ferdman', 'Hui-Yu Lee', 'noraleonte', 'Yash Thakur',\n",
       "       'Ali Sasani', 'Vishruth Raj', 'TheNatkat', 'nithins1',\n",
       "       'Ashley Kolodziej', 'Decade', 'John Higgins', 'Shane',\n",
       "       'Homer Chen', 'Turner', 'Cristian Macedo', 'Gresille & Siffle',\n",
       "       'Matthew Kwong', 'Jayden Seric', 'Chris Morin', 'József Sebestyén',\n",
       "       'Rajgopal Jakhmola', 'omriklein', 'Andy Le', 'Lukas Ruflair',\n",
       "       'Phantom X', 'Yash Joshi', 'Pascal Corpet', 'Evan Charalampidis',\n",
       "       'Michel Engelen', 'Brent Ertz', 'dvkam', 'D V', 'Mateus Elias',\n",
       "       'Arseny Garelyshev', 'Mahesh', 'Jamison Dance', 'Vadim Goy',\n",
       "       'Sefa Teber', 'Lingzhi Xu', 'Dmitry Semigradsky', 'Erik McKelvey',\n",
       "       'David Pham', 'Sumukh', 'Augusto Bosco', 'Digvijay Gupta',\n",
       "       'Axel Boström', 'Atharva Joshi', 'Atharva Deshpande',\n",
       "       'Chirag Bhalotia', 'Björn Böing', 'Vineet J Karni', 'Simer13',\n",
       "       'Parikshit Adhikari', 'Adrien Brault', 'Rabeeh Ebrahim',\n",
       "       'devuser200', 'Seyyed Mahdi', 'Chhawinderpreet Singh',\n",
       "       'Hjalti H. Gíslason', 'Vadim Zainetdinov', 'Evan C', 'MY5T3RY',\n",
       "       'Nitin Kumar', 'Yukiya Nakagawa', 'Joe Coyle', 'Vadym Raksha',\n",
       "       'megos', 'Hao', 'Lucas Hilgert', 'Sixxy', 'dhaub-exelixis',\n",
       "       'Sadik Malik', 'Shima Ryuhei', 'Avikalp Kumar Gupta', 'Cornelius',\n",
       "       'Francois Zaninotto', 'Filip Malek', 'Olle Bröms',\n",
       "       'Blake Netzeband', 'abreel', 'saeed', 'ReaZzy', 'Steven DeMartini',\n",
       "       'Mike Bannister', 'Qiwei Yang', 'kimia hajizadeh', 'adamhylander',\n",
       "       'Muaz Aqdas', 'Kamino0', 'Kenil Sudani', 'Andrej'], dtype=object)"
      ]
     },
     "execution_count": 6,
     "metadata": {},
     "output_type": "execute_result"
    }
   ],
   "execution_count": 6
  },
  {
   "metadata": {
    "ExecuteTime": {
     "end_time": "2024-06-04T13:14:18.507555Z",
     "start_time": "2024-06-04T13:14:18.490758Z"
    }
   },
   "cell_type": "code",
   "source": [
    "contributor_df = pd.DataFrame(index=df['Contributor'].unique())\n",
    "contributor_df.index.name = 'Contributor'\n",
    "contributor_df['Author'] = df['Author'].unique()\n",
    "contributor_df\n"
   ],
   "id": "b1e03b61d45eb8db",
   "outputs": [
    {
     "data": {
      "text/plain": [
       "                             Author\n",
       "Contributor                        \n",
       "ZeeshanTamboli      Zeeshan Tamboli\n",
       "oliviertassinari  Olivier Tassinari\n",
       "hbjORbj                   Benny Joo\n",
       "renovate[bot]         renovate[bot]\n",
       "mnajdova             Marija Najdova\n",
       "...                             ...\n",
       "adamhylander           adamhylander\n",
       "muazaqdas                Muaz Aqdas\n",
       "Kamino0                     Kamino0\n",
       "Super-Kenil            Kenil Sudani\n",
       "aacevski                     Andrej\n",
       "\n",
       "[256 rows x 1 columns]"
      ],
      "text/html": [
       "<div>\n",
       "<style scoped>\n",
       "    .dataframe tbody tr th:only-of-type {\n",
       "        vertical-align: middle;\n",
       "    }\n",
       "\n",
       "    .dataframe tbody tr th {\n",
       "        vertical-align: top;\n",
       "    }\n",
       "\n",
       "    .dataframe thead th {\n",
       "        text-align: right;\n",
       "    }\n",
       "</style>\n",
       "<table border=\"1\" class=\"dataframe\">\n",
       "  <thead>\n",
       "    <tr style=\"text-align: right;\">\n",
       "      <th></th>\n",
       "      <th>Author</th>\n",
       "    </tr>\n",
       "    <tr>\n",
       "      <th>Contributor</th>\n",
       "      <th></th>\n",
       "    </tr>\n",
       "  </thead>\n",
       "  <tbody>\n",
       "    <tr>\n",
       "      <th>ZeeshanTamboli</th>\n",
       "      <td>Zeeshan Tamboli</td>\n",
       "    </tr>\n",
       "    <tr>\n",
       "      <th>oliviertassinari</th>\n",
       "      <td>Olivier Tassinari</td>\n",
       "    </tr>\n",
       "    <tr>\n",
       "      <th>hbjORbj</th>\n",
       "      <td>Benny Joo</td>\n",
       "    </tr>\n",
       "    <tr>\n",
       "      <th>renovate[bot]</th>\n",
       "      <td>renovate[bot]</td>\n",
       "    </tr>\n",
       "    <tr>\n",
       "      <th>mnajdova</th>\n",
       "      <td>Marija Najdova</td>\n",
       "    </tr>\n",
       "    <tr>\n",
       "      <th>...</th>\n",
       "      <td>...</td>\n",
       "    </tr>\n",
       "    <tr>\n",
       "      <th>adamhylander</th>\n",
       "      <td>adamhylander</td>\n",
       "    </tr>\n",
       "    <tr>\n",
       "      <th>muazaqdas</th>\n",
       "      <td>Muaz Aqdas</td>\n",
       "    </tr>\n",
       "    <tr>\n",
       "      <th>Kamino0</th>\n",
       "      <td>Kamino0</td>\n",
       "    </tr>\n",
       "    <tr>\n",
       "      <th>Super-Kenil</th>\n",
       "      <td>Kenil Sudani</td>\n",
       "    </tr>\n",
       "    <tr>\n",
       "      <th>aacevski</th>\n",
       "      <td>Andrej</td>\n",
       "    </tr>\n",
       "  </tbody>\n",
       "</table>\n",
       "<p>256 rows × 1 columns</p>\n",
       "</div>"
      ]
     },
     "execution_count": 8,
     "metadata": {},
     "output_type": "execute_result"
    }
   ],
   "execution_count": 8
  }
 ],
 "metadata": {
  "kernelspec": {
   "display_name": "Python 3",
   "language": "python",
   "name": "python3"
  },
  "language_info": {
   "codemirror_mode": {
    "name": "ipython",
    "version": 2
   },
   "file_extension": ".py",
   "mimetype": "text/x-python",
   "name": "python",
   "nbconvert_exporter": "python",
   "pygments_lexer": "ipython2",
   "version": "2.7.6"
  }
 },
 "nbformat": 4,
 "nbformat_minor": 5
}
