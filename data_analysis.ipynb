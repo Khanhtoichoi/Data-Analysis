{
 "cells": [
  {
   "metadata": {},
   "cell_type": "markdown",
   "source": "Data Cleaning and Preprocessing",
   "id": "a6ddce7ab1911f6f"
  },
  {
   "cell_type": "code",
   "id": "initial_id",
   "metadata": {
    "collapsed": true,
    "ExecuteTime": {
     "end_time": "2024-06-07T11:51:56.286222Z",
     "start_time": "2024-06-07T11:51:55.776018Z"
    }
   },
   "source": [
    "import pandas as pd\n",
    "import numpy as np\n",
    "import matplotlib.pyplot as plt\n",
    "# Read csv file\n",
    "df = pd.read_csv('commits.csv')\n",
    "df['Commited Date'] = pd.to_datetime(df['Commited Date'])\n",
    "df = df.sort_values(by='Commited Date')\n",
    "df.index = [i for i in range(1,df.shape[0]+1)]\n",
    "\n",
    "# Correcting the Contributor column\n",
    "for i in range(1,df.shape[0]+1):\n",
    "    if df.loc[i,'Author'] == df.loc[i,'Contributor']:\n",
    "        df.loc[i,'Contributor'] = df.loc[i,'Author'].replace(' ','')\n",
    "# Detect which Authors changed their Github name and change their Contributor id to the latest time\n",
    "dict = {df.loc[i,'Author'] : df.loc[i,'Contributor'] for i in range(1,df.shape[0]+1)}\n",
    "for i in range(1,df.shape[0]+1):\n",
    "    df.loc[i,'Contributor'] = dict[df.loc[i,'Author']]\n",
    "# Set commited date as index\n",
    "df.set_index('Commited Date', inplace=True)\n",
    "df['Month'] = df.index.to_period('M')\n",
    "df.head()"
   ],
   "outputs": [
    {
     "data": {
      "text/plain": [
       "                          Author       Contributor  \\\n",
       "Commited Date                                        \n",
       "2023-01-02       Zeeshan Tamboli    ZeeshanTamboli   \n",
       "2023-01-02     Olivier Tassinari  oliviertassinari   \n",
       "2023-01-02     Olivier Tassinari  oliviertassinari   \n",
       "2023-01-02     Olivier Tassinari  oliviertassinari   \n",
       "2023-01-02             Benny Joo           hbjORbj   \n",
       "\n",
       "                                                           Files   Passed  \\\n",
       "Commited Date                                                               \n",
       "2023-01-02               ['docs/src/modules/utils/CodeCopy.tsx']  Success   \n",
       "2023-01-02      ['docs/src/modules/components/AppLayoutDocs.js']  Success   \n",
       "2023-01-02     ['docs/pages/careers.tsx', 'docs/src/pages/car...  Success   \n",
       "2023-01-02     ['packages/mui-system/src/Box/Box.spec.tsx', '...  Success   \n",
       "2023-01-02     ['CHANGELOG.md', 'benchmark/package.json', 'do...  Success   \n",
       "\n",
       "                 Month  \n",
       "Commited Date           \n",
       "2023-01-02     2023-01  \n",
       "2023-01-02     2023-01  \n",
       "2023-01-02     2023-01  \n",
       "2023-01-02     2023-01  \n",
       "2023-01-02     2023-01  "
      ],
      "text/html": [
       "<div>\n",
       "<style scoped>\n",
       "    .dataframe tbody tr th:only-of-type {\n",
       "        vertical-align: middle;\n",
       "    }\n",
       "\n",
       "    .dataframe tbody tr th {\n",
       "        vertical-align: top;\n",
       "    }\n",
       "\n",
       "    .dataframe thead th {\n",
       "        text-align: right;\n",
       "    }\n",
       "</style>\n",
       "<table border=\"1\" class=\"dataframe\">\n",
       "  <thead>\n",
       "    <tr style=\"text-align: right;\">\n",
       "      <th></th>\n",
       "      <th>Author</th>\n",
       "      <th>Contributor</th>\n",
       "      <th>Files</th>\n",
       "      <th>Passed</th>\n",
       "      <th>Month</th>\n",
       "    </tr>\n",
       "    <tr>\n",
       "      <th>Commited Date</th>\n",
       "      <th></th>\n",
       "      <th></th>\n",
       "      <th></th>\n",
       "      <th></th>\n",
       "      <th></th>\n",
       "    </tr>\n",
       "  </thead>\n",
       "  <tbody>\n",
       "    <tr>\n",
       "      <th>2023-01-02</th>\n",
       "      <td>Zeeshan Tamboli</td>\n",
       "      <td>ZeeshanTamboli</td>\n",
       "      <td>['docs/src/modules/utils/CodeCopy.tsx']</td>\n",
       "      <td>Success</td>\n",
       "      <td>2023-01</td>\n",
       "    </tr>\n",
       "    <tr>\n",
       "      <th>2023-01-02</th>\n",
       "      <td>Olivier Tassinari</td>\n",
       "      <td>oliviertassinari</td>\n",
       "      <td>['docs/src/modules/components/AppLayoutDocs.js']</td>\n",
       "      <td>Success</td>\n",
       "      <td>2023-01</td>\n",
       "    </tr>\n",
       "    <tr>\n",
       "      <th>2023-01-02</th>\n",
       "      <td>Olivier Tassinari</td>\n",
       "      <td>oliviertassinari</td>\n",
       "      <td>['docs/pages/careers.tsx', 'docs/src/pages/car...</td>\n",
       "      <td>Success</td>\n",
       "      <td>2023-01</td>\n",
       "    </tr>\n",
       "    <tr>\n",
       "      <th>2023-01-02</th>\n",
       "      <td>Olivier Tassinari</td>\n",
       "      <td>oliviertassinari</td>\n",
       "      <td>['packages/mui-system/src/Box/Box.spec.tsx', '...</td>\n",
       "      <td>Success</td>\n",
       "      <td>2023-01</td>\n",
       "    </tr>\n",
       "    <tr>\n",
       "      <th>2023-01-02</th>\n",
       "      <td>Benny Joo</td>\n",
       "      <td>hbjORbj</td>\n",
       "      <td>['CHANGELOG.md', 'benchmark/package.json', 'do...</td>\n",
       "      <td>Success</td>\n",
       "      <td>2023-01</td>\n",
       "    </tr>\n",
       "  </tbody>\n",
       "</table>\n",
       "</div>"
      ]
     },
     "execution_count": 64,
     "metadata": {},
     "output_type": "execute_result"
    }
   ],
   "execution_count": 64
  },
  {
   "metadata": {
    "ExecuteTime": {
     "end_time": "2024-06-07T11:53:30.136334Z",
     "start_time": "2024-06-07T11:53:30.115737Z"
    }
   },
   "cell_type": "code",
   "source": [
    "date_df = pd.DataFrame(index=np.unique(df.index.values))\n",
    "date_df.index.name = 'Months'\n",
    "date_df['Commits'] = df.index.value_counts()\n",
    "date_df['Month'] = date_df.index.to_period('M')\n",
    "date_df.head()"
   ],
   "id": "a3f407a77aa2c553",
   "outputs": [
    {
     "data": {
      "text/plain": [
       "            Commits    Month\n",
       "Months                      \n",
       "2023-01-02       15  2023-01\n",
       "2023-01-03        5  2023-01\n",
       "2023-01-04        4  2023-01\n",
       "2023-01-05        3  2023-01\n",
       "2023-01-06        1  2023-01"
      ],
      "text/html": [
       "<div>\n",
       "<style scoped>\n",
       "    .dataframe tbody tr th:only-of-type {\n",
       "        vertical-align: middle;\n",
       "    }\n",
       "\n",
       "    .dataframe tbody tr th {\n",
       "        vertical-align: top;\n",
       "    }\n",
       "\n",
       "    .dataframe thead th {\n",
       "        text-align: right;\n",
       "    }\n",
       "</style>\n",
       "<table border=\"1\" class=\"dataframe\">\n",
       "  <thead>\n",
       "    <tr style=\"text-align: right;\">\n",
       "      <th></th>\n",
       "      <th>Commits</th>\n",
       "      <th>Month</th>\n",
       "    </tr>\n",
       "    <tr>\n",
       "      <th>Months</th>\n",
       "      <th></th>\n",
       "      <th></th>\n",
       "    </tr>\n",
       "  </thead>\n",
       "  <tbody>\n",
       "    <tr>\n",
       "      <th>2023-01-02</th>\n",
       "      <td>15</td>\n",
       "      <td>2023-01</td>\n",
       "    </tr>\n",
       "    <tr>\n",
       "      <th>2023-01-03</th>\n",
       "      <td>5</td>\n",
       "      <td>2023-01</td>\n",
       "    </tr>\n",
       "    <tr>\n",
       "      <th>2023-01-04</th>\n",
       "      <td>4</td>\n",
       "      <td>2023-01</td>\n",
       "    </tr>\n",
       "    <tr>\n",
       "      <th>2023-01-05</th>\n",
       "      <td>3</td>\n",
       "      <td>2023-01</td>\n",
       "    </tr>\n",
       "    <tr>\n",
       "      <th>2023-01-06</th>\n",
       "      <td>1</td>\n",
       "      <td>2023-01</td>\n",
       "    </tr>\n",
       "  </tbody>\n",
       "</table>\n",
       "</div>"
      ]
     },
     "execution_count": 66,
     "metadata": {},
     "output_type": "execute_result"
    }
   ],
   "execution_count": 66
  },
  {
   "metadata": {},
   "cell_type": "markdown",
   "source": "Top 5 Months with the most Commits",
   "id": "3481da9f4e6e610d"
  },
  {
   "metadata": {
    "ExecuteTime": {
     "end_time": "2024-06-07T11:53:32.044286Z",
     "start_time": "2024-06-07T11:53:32.029084Z"
    }
   },
   "cell_type": "code",
   "source": [
    "monthly_counts = date_df.groupby('Month')['Commits'].sum()\n",
    "monthly_counts.sort_values(ascending=False).head()"
   ],
   "id": "1cd84d58c9d1b090",
   "outputs": [
    {
     "data": {
      "text/plain": [
       "Month\n",
       "2023-08    280\n",
       "2023-07    273\n",
       "2023-09    266\n",
       "2023-10    255\n",
       "2023-11    207\n",
       "Freq: M, Name: Commits, dtype: int64"
      ]
     },
     "execution_count": 67,
     "metadata": {},
     "output_type": "execute_result"
    }
   ],
   "execution_count": 67
  },
  {
   "metadata": {},
   "cell_type": "markdown",
   "source": "Visualization",
   "id": "e40a557e82a6c2a7"
  },
  {
   "metadata": {},
   "cell_type": "markdown",
   "source": "",
   "id": "b128a72ffc435b8"
  },
  {
   "metadata": {
    "ExecuteTime": {
     "end_time": "2024-06-07T11:53:34.029040Z",
     "start_time": "2024-06-07T11:53:33.938977Z"
    }
   },
   "cell_type": "code",
   "source": [
    "monthly_counts.plot.bar(ylabel=\"Number of Commits\", figsize=(14, 6))\n",
    "plt.xticks(rotation=0) \n",
    "plt.show()"
   ],
   "id": "64899afcca6e1c71",
   "outputs": [
    {
     "data": {
      "text/plain": [
       "<Figure size 1400x600 with 1 Axes>"
      ],
      "image/png": "[encoded data removed]"
     },
     "metadata": {},
     "output_type": "display_data"
    }
   ],
   "execution_count": 68
  },
  {
   "metadata": {},
   "cell_type": "markdown",
   "source": "",
   "id": "b9b369d7e2182d63"
  },
  {
   "metadata": {},
   "cell_type": "markdown",
   "source": "Total Contributors in 2023",
   "id": "2f6992edf452ec1"
  },
  {
   "metadata": {
    "ExecuteTime": {
     "end_time": "2024-06-07T10:21:00.615566Z",
     "start_time": "2024-06-07T10:21:00.608659Z"
    }
   },
   "cell_type": "code",
   "source": "df['Author'].unique().size",
   "id": "eedb5aed1c05eb74",
   "outputs": [
    {
     "data": {
      "text/plain": [
       "256"
      ]
     },
     "execution_count": 6,
     "metadata": {},
     "output_type": "execute_result"
    }
   ],
   "execution_count": 6
  },
  {
   "metadata": {},
   "cell_type": "markdown",
   "source": "Setting up a dataframe for Contributors",
   "id": "7e7304cb566d5a62"
  },
  {
   "metadata": {
    "ExecuteTime": {
     "end_time": "2024-06-07T10:21:01.046381Z",
     "start_time": "2024-06-07T10:21:00.617798Z"
    }
   },
   "cell_type": "code",
   "source": [
    "contributor_df = pd.DataFrame(index=df['Contributor'].unique())\n",
    "contributor_df.index.name = 'Contributor'\n",
    "contributor_df['Author'] = df['Author'].unique()\n",
    "contributor_df['Total Commits'] = df['Contributor'].value_counts()\n",
    "rates = {}\n",
    "for i in df['Contributor'].unique():\n",
    "    rate = df['Passed'][(df['Contributor'] == i) & (df['Passed'] == 'Success')].size\n",
    "    rates[i] = str(rate/df['Passed'][df['Contributor'] == i].size*100) + '%'\n",
    "contributor_df['Success Rate'] = rates\n",
    "contributor_df"
   ],
   "id": "b1e03b61d45eb8db",
   "outputs": [
    {
     "data": {
      "text/plain": [
       "                             Author  Total Commits         Success Rate\n",
       "Contributor                                                            \n",
       "ZeeshanTamboli      Zeeshan Tamboli             71    67.6056338028169%\n",
       "oliviertassinari  Olivier Tassinari            354  50.847457627118644%\n",
       "hbjORbj                   Benny Joo             71   84.50704225352112%\n",
       "renovate[bot]         renovate[bot]            737   37.58480325644505%\n",
       "mnajdova             Marija Najdova             83   69.87951807228916%\n",
       "...                             ...            ...                  ...\n",
       "adamhylander           adamhylander              1                 0.0%\n",
       "muazaqdas                Muaz Aqdas              1                 0.0%\n",
       "Kamino0                     Kamino0              1               100.0%\n",
       "Super-Kenil            Kenil Sudani              1               100.0%\n",
       "aacevski                     Andrej              1               100.0%\n",
       "\n",
       "[256 rows x 3 columns]"
      ],
      "text/html": [
       "<div>\n",
       "<style scoped>\n",
       "    .dataframe tbody tr th:only-of-type {\n",
       "        vertical-align: middle;\n",
       "    }\n",
       "\n",
       "    .dataframe tbody tr th {\n",
       "        vertical-align: top;\n",
       "    }\n",
       "\n",
       "    .dataframe thead th {\n",
       "        text-align: right;\n",
       "    }\n",
       "</style>\n",
       "<table border=\"1\" class=\"dataframe\">\n",
       "  <thead>\n",
       "    <tr style=\"text-align: right;\">\n",
       "      <th></th>\n",
       "      <th>Author</th>\n",
       "      <th>Total Commits</th>\n",
       "      <th>Success Rate</th>\n",
       "    </tr>\n",
       "    <tr>\n",
       "      <th>Contributor</th>\n",
       "      <th></th>\n",
       "      <th></th>\n",
       "      <th></th>\n",
       "    </tr>\n",
       "  </thead>\n",
       "  <tbody>\n",
       "    <tr>\n",
       "      <th>ZeeshanTamboli</th>\n",
       "      <td>Zeeshan Tamboli</td>\n",
       "      <td>71</td>\n",
       "      <td>67.6056338028169%</td>\n",
       "    </tr>\n",
       "    <tr>\n",
       "      <th>oliviertassinari</th>\n",
       "      <td>Olivier Tassinari</td>\n",
       "      <td>354</td>\n",
       "      <td>50.847457627118644%</td>\n",
       "    </tr>\n",
       "    <tr>\n",
       "      <th>hbjORbj</th>\n",
       "      <td>Benny Joo</td>\n",
       "      <td>71</td>\n",
       "      <td>84.50704225352112%</td>\n",
       "    </tr>\n",
       "    <tr>\n",
       "      <th>renovate[bot]</th>\n",
       "      <td>renovate[bot]</td>\n",
       "      <td>737</td>\n",
       "      <td>37.58480325644505%</td>\n",
       "    </tr>\n",
       "    <tr>\n",
       "      <th>mnajdova</th>\n",
       "      <td>Marija Najdova</td>\n",
       "      <td>83</td>\n",
       "      <td>69.87951807228916%</td>\n",
       "    </tr>\n",
       "    <tr>\n",
       "      <th>...</th>\n",
       "      <td>...</td>\n",
       "      <td>...</td>\n",
       "      <td>...</td>\n",
       "    </tr>\n",
       "    <tr>\n",
       "      <th>adamhylander</th>\n",
       "      <td>adamhylander</td>\n",
       "      <td>1</td>\n",
       "      <td>0.0%</td>\n",
       "    </tr>\n",
       "    <tr>\n",
       "      <th>muazaqdas</th>\n",
       "      <td>Muaz Aqdas</td>\n",
       "      <td>1</td>\n",
       "      <td>0.0%</td>\n",
       "    </tr>\n",
       "    <tr>\n",
       "      <th>Kamino0</th>\n",
       "      <td>Kamino0</td>\n",
       "      <td>1</td>\n",
       "      <td>100.0%</td>\n",
       "    </tr>\n",
       "    <tr>\n",
       "      <th>Super-Kenil</th>\n",
       "      <td>Kenil Sudani</td>\n",
       "      <td>1</td>\n",
       "      <td>100.0%</td>\n",
       "    </tr>\n",
       "    <tr>\n",
       "      <th>aacevski</th>\n",
       "      <td>Andrej</td>\n",
       "      <td>1</td>\n",
       "      <td>100.0%</td>\n",
       "    </tr>\n",
       "  </tbody>\n",
       "</table>\n",
       "<p>256 rows × 3 columns</p>\n",
       "</div>"
      ]
     },
     "execution_count": 7,
     "metadata": {},
     "output_type": "execute_result"
    }
   ],
   "execution_count": 7
  },
  {
   "metadata": {},
   "cell_type": "markdown",
   "source": "Top 5 Contributors in 2023",
   "id": "5c92e269c88019cf"
  },
  {
   "metadata": {
    "ExecuteTime": {
     "end_time": "2024-06-07T10:21:01.059838Z",
     "start_time": "2024-06-07T10:21:01.048396Z"
    }
   },
   "cell_type": "code",
   "source": [
    "contributor_df.sort_values(by = 'Total Commits', ascending=False, inplace=True)\n",
    "contributor_df.head()"
   ],
   "id": "54cfe617ebe489cd",
   "outputs": [
    {
     "data": {
      "text/plain": [
       "                             Author  Total Commits         Success Rate\n",
       "Contributor                                                            \n",
       "renovate[bot]         renovate[bot]            737   37.58480325644505%\n",
       "oliviertassinari  Olivier Tassinari            354  50.847457627118644%\n",
       "danilo-leal             Danilo Leal            146   55.47945205479452%\n",
       "sai6855                   sai chand            106  62.264150943396224%\n",
       "siriwatknp                Siriwat K             99   73.73737373737373%"
      ],
      "text/html": [
       "<div>\n",
       "<style scoped>\n",
       "    .dataframe tbody tr th:only-of-type {\n",
       "        vertical-align: middle;\n",
       "    }\n",
       "\n",
       "    .dataframe tbody tr th {\n",
       "        vertical-align: top;\n",
       "    }\n",
       "\n",
       "    .dataframe thead th {\n",
       "        text-align: right;\n",
       "    }\n",
       "</style>\n",
       "<table border=\"1\" class=\"dataframe\">\n",
       "  <thead>\n",
       "    <tr style=\"text-align: right;\">\n",
       "      <th></th>\n",
       "      <th>Author</th>\n",
       "      <th>Total Commits</th>\n",
       "      <th>Success Rate</th>\n",
       "    </tr>\n",
       "    <tr>\n",
       "      <th>Contributor</th>\n",
       "      <th></th>\n",
       "      <th></th>\n",
       "      <th></th>\n",
       "    </tr>\n",
       "  </thead>\n",
       "  <tbody>\n",
       "    <tr>\n",
       "      <th>renovate[bot]</th>\n",
       "      <td>renovate[bot]</td>\n",
       "      <td>737</td>\n",
       "      <td>37.58480325644505%</td>\n",
       "    </tr>\n",
       "    <tr>\n",
       "      <th>oliviertassinari</th>\n",
       "      <td>Olivier Tassinari</td>\n",
       "      <td>354</td>\n",
       "      <td>50.847457627118644%</td>\n",
       "    </tr>\n",
       "    <tr>\n",
       "      <th>danilo-leal</th>\n",
       "      <td>Danilo Leal</td>\n",
       "      <td>146</td>\n",
       "      <td>55.47945205479452%</td>\n",
       "    </tr>\n",
       "    <tr>\n",
       "      <th>sai6855</th>\n",
       "      <td>sai chand</td>\n",
       "      <td>106</td>\n",
       "      <td>62.264150943396224%</td>\n",
       "    </tr>\n",
       "    <tr>\n",
       "      <th>siriwatknp</th>\n",
       "      <td>Siriwat K</td>\n",
       "      <td>99</td>\n",
       "      <td>73.73737373737373%</td>\n",
       "    </tr>\n",
       "  </tbody>\n",
       "</table>\n",
       "</div>"
      ]
     },
     "execution_count": 8,
     "metadata": {},
     "output_type": "execute_result"
    }
   ],
   "execution_count": 8
  },
  {
   "metadata": {
    "ExecuteTime": {
     "end_time": "2024-06-07T10:49:53.290637Z",
     "start_time": "2024-06-07T10:49:53.247945Z"
    }
   },
   "cell_type": "code",
   "source": [
    "contributor_commits = df.groupby('Month')['Contributor'].value_counts().unstack(fill_value=0)\n",
    "for i in df['Contributor'].unique():\n",
    "    contributor_commits.drop(i,axis=1,inplace=True) if i != 'renovate[bot]' and i!='oliviertassinari' and i!='danilo-leal' and i!='sai6855' and i!='siriwatknp' else i\n",
    "contributor_commits.index.name = 'Months'\n",
    "contributor_commits"
   ],
   "id": "13e0bbd53317fc0b",
   "outputs": [
    {
     "data": {
      "text/plain": [
       "Contributor  danilo-leal  oliviertassinari  renovate[bot]  sai6855  siriwatknp\n",
       "Months                                                                        \n",
       "2023-01                0                21             41        9          10\n",
       "2023-02                2                21             53        8          16\n",
       "2023-03                2                20             35       11          12\n",
       "2023-04                7                22             42       12          11\n",
       "2023-05                6                 8             73        9           8\n",
       "2023-06               13                32             60        6           8\n",
       "2023-07               11                48             83        8           9\n",
       "2023-08               37                51             68        8           6\n",
       "2023-09               23                54             65       14           5\n",
       "2023-10               23                21             81        6          11\n",
       "2023-11                9                29             85       10           1\n",
       "2023-12               13                27             51        5           2"
      ],
      "text/html": [
       "<div>\n",
       "<style scoped>\n",
       "    .dataframe tbody tr th:only-of-type {\n",
       "        vertical-align: middle;\n",
       "    }\n",
       "\n",
       "    .dataframe tbody tr th {\n",
       "        vertical-align: top;\n",
       "    }\n",
       "\n",
       "    .dataframe thead th {\n",
       "        text-align: right;\n",
       "    }\n",
       "</style>\n",
       "<table border=\"1\" class=\"dataframe\">\n",
       "  <thead>\n",
       "    <tr style=\"text-align: right;\">\n",
       "      <th>Contributor</th>\n",
       "      <th>danilo-leal</th>\n",
       "      <th>oliviertassinari</th>\n",
       "      <th>renovate[bot]</th>\n",
       "      <th>sai6855</th>\n",
       "      <th>siriwatknp</th>\n",
       "    </tr>\n",
       "    <tr>\n",
       "      <th>Months</th>\n",
       "      <th></th>\n",
       "      <th></th>\n",
       "      <th></th>\n",
       "      <th></th>\n",
       "      <th></th>\n",
       "    </tr>\n",
       "  </thead>\n",
       "  <tbody>\n",
       "    <tr>\n",
       "      <th>2023-01</th>\n",
       "      <td>0</td>\n",
       "      <td>21</td>\n",
       "      <td>41</td>\n",
       "      <td>9</td>\n",
       "      <td>10</td>\n",
       "    </tr>\n",
       "    <tr>\n",
       "      <th>2023-02</th>\n",
       "      <td>2</td>\n",
       "      <td>21</td>\n",
       "      <td>53</td>\n",
       "      <td>8</td>\n",
       "      <td>16</td>\n",
       "    </tr>\n",
       "    <tr>\n",
       "      <th>2023-03</th>\n",
       "      <td>2</td>\n",
       "      <td>20</td>\n",
       "      <td>35</td>\n",
       "      <td>11</td>\n",
       "      <td>12</td>\n",
       "    </tr>\n",
       "    <tr>\n",
       "      <th>2023-04</th>\n",
       "      <td>7</td>\n",
       "      <td>22</td>\n",
       "      <td>42</td>\n",
       "      <td>12</td>\n",
       "      <td>11</td>\n",
       "    </tr>\n",
       "    <tr>\n",
       "      <th>2023-05</th>\n",
       "      <td>6</td>\n",
       "      <td>8</td>\n",
       "      <td>73</td>\n",
       "      <td>9</td>\n",
       "      <td>8</td>\n",
       "    </tr>\n",
       "    <tr>\n",
       "      <th>2023-06</th>\n",
       "      <td>13</td>\n",
       "      <td>32</td>\n",
       "      <td>60</td>\n",
       "      <td>6</td>\n",
       "      <td>8</td>\n",
       "    </tr>\n",
       "    <tr>\n",
       "      <th>2023-07</th>\n",
       "      <td>11</td>\n",
       "      <td>48</td>\n",
       "      <td>83</td>\n",
       "      <td>8</td>\n",
       "      <td>9</td>\n",
       "    </tr>\n",
       "    <tr>\n",
       "      <th>2023-08</th>\n",
       "      <td>37</td>\n",
       "      <td>51</td>\n",
       "      <td>68</td>\n",
       "      <td>8</td>\n",
       "      <td>6</td>\n",
       "    </tr>\n",
       "    <tr>\n",
       "      <th>2023-09</th>\n",
       "      <td>23</td>\n",
       "      <td>54</td>\n",
       "      <td>65</td>\n",
       "      <td>14</td>\n",
       "      <td>5</td>\n",
       "    </tr>\n",
       "    <tr>\n",
       "      <th>2023-10</th>\n",
       "      <td>23</td>\n",
       "      <td>21</td>\n",
       "      <td>81</td>\n",
       "      <td>6</td>\n",
       "      <td>11</td>\n",
       "    </tr>\n",
       "    <tr>\n",
       "      <th>2023-11</th>\n",
       "      <td>9</td>\n",
       "      <td>29</td>\n",
       "      <td>85</td>\n",
       "      <td>10</td>\n",
       "      <td>1</td>\n",
       "    </tr>\n",
       "    <tr>\n",
       "      <th>2023-12</th>\n",
       "      <td>13</td>\n",
       "      <td>27</td>\n",
       "      <td>51</td>\n",
       "      <td>5</td>\n",
       "      <td>2</td>\n",
       "    </tr>\n",
       "  </tbody>\n",
       "</table>\n",
       "</div>"
      ]
     },
     "execution_count": 37,
     "metadata": {},
     "output_type": "execute_result"
    }
   ],
   "execution_count": 37
  },
  {
   "metadata": {
    "ExecuteTime": {
     "end_time": "2024-06-07T10:38:00.213751Z",
     "start_time": "2024-06-07T10:38:00.056448Z"
    }
   },
   "cell_type": "code",
   "source": "contributor_commits.plot(kind='line', marker='o',ylabel = 'Commits',figsize=(12,6))",
   "id": "9cd02535c1b1aadf",
   "outputs": [
    {
     "data": {
      "text/plain": [
       "<Axes: xlabel='Months', ylabel='Commits'>"
      ]
     },
     "execution_count": 19,
     "metadata": {},
     "output_type": "execute_result"
    },
    {
     "data": {
      "text/plain": [
       "<Figure size 1200x600 with 1 Axes>"
      ],
      "image/png": "[encoded data removed]"
     },
     "metadata": {},
     "output_type": "display_data"
    }
   ],
   "execution_count": 19
  },
  {
   "metadata": {
    "ExecuteTime": {
     "end_time": "2024-06-07T11:53:43.020870Z",
     "start_time": "2024-06-07T11:53:43.007248Z"
    }
   },
   "cell_type": "code",
   "source": [
    "grow_df = monthly_counts.to_frame().cumsum()\n",
    "used = set()\n",
    "contributor = []\n",
    "for month in df['Month'].unique():\n",
    "    contributors = df[df['Month'] == month]['Contributor']\n",
    "    for contributorr in contributors:\n",
    "        used.add(contributorr)\n",
    "    contributor.append(len(used))\n",
    "grow_df['Contributors'] = contributor \n",
    "grow_df"
   ],
   "id": "e11386173d5e1982",
   "outputs": [
    {
     "data": {
      "text/plain": [
       "         Commits  Contributors\n",
       "Month                         \n",
       "2023-01      147            40\n",
       "2023-02      326            58\n",
       "2023-03      484            82\n",
       "2023-04      665            97\n",
       "2023-05      870           125\n",
       "2023-06     1052           142\n",
       "2023-07     1325           165\n",
       "2023-08     1605           186\n",
       "2023-09     1871           206\n",
       "2023-10     2126           230\n",
       "2023-11     2333           240\n",
       "2023-12     2495           256"
      ],
      "text/html": [
       "<div>\n",
       "<style scoped>\n",
       "    .dataframe tbody tr th:only-of-type {\n",
       "        vertical-align: middle;\n",
       "    }\n",
       "\n",
       "    .dataframe tbody tr th {\n",
       "        vertical-align: top;\n",
       "    }\n",
       "\n",
       "    .dataframe thead th {\n",
       "        text-align: right;\n",
       "    }\n",
       "</style>\n",
       "<table border=\"1\" class=\"dataframe\">\n",
       "  <thead>\n",
       "    <tr style=\"text-align: right;\">\n",
       "      <th></th>\n",
       "      <th>Commits</th>\n",
       "      <th>Contributors</th>\n",
       "    </tr>\n",
       "    <tr>\n",
       "      <th>Month</th>\n",
       "      <th></th>\n",
       "      <th></th>\n",
       "    </tr>\n",
       "  </thead>\n",
       "  <tbody>\n",
       "    <tr>\n",
       "      <th>2023-01</th>\n",
       "      <td>147</td>\n",
       "      <td>40</td>\n",
       "    </tr>\n",
       "    <tr>\n",
       "      <th>2023-02</th>\n",
       "      <td>326</td>\n",
       "      <td>58</td>\n",
       "    </tr>\n",
       "    <tr>\n",
       "      <th>2023-03</th>\n",
       "      <td>484</td>\n",
       "      <td>82</td>\n",
       "    </tr>\n",
       "    <tr>\n",
       "      <th>2023-04</th>\n",
       "      <td>665</td>\n",
       "      <td>97</td>\n",
       "    </tr>\n",
       "    <tr>\n",
       "      <th>2023-05</th>\n",
       "      <td>870</td>\n",
       "      <td>125</td>\n",
       "    </tr>\n",
       "    <tr>\n",
       "      <th>2023-06</th>\n",
       "      <td>1052</td>\n",
       "      <td>142</td>\n",
       "    </tr>\n",
       "    <tr>\n",
       "      <th>2023-07</th>\n",
       "      <td>1325</td>\n",
       "      <td>165</td>\n",
       "    </tr>\n",
       "    <tr>\n",
       "      <th>2023-08</th>\n",
       "      <td>1605</td>\n",
       "      <td>186</td>\n",
       "    </tr>\n",
       "    <tr>\n",
       "      <th>2023-09</th>\n",
       "      <td>1871</td>\n",
       "      <td>206</td>\n",
       "    </tr>\n",
       "    <tr>\n",
       "      <th>2023-10</th>\n",
       "      <td>2126</td>\n",
       "      <td>230</td>\n",
       "    </tr>\n",
       "    <tr>\n",
       "      <th>2023-11</th>\n",
       "      <td>2333</td>\n",
       "      <td>240</td>\n",
       "    </tr>\n",
       "    <tr>\n",
       "      <th>2023-12</th>\n",
       "      <td>2495</td>\n",
       "      <td>256</td>\n",
       "    </tr>\n",
       "  </tbody>\n",
       "</table>\n",
       "</div>"
      ]
     },
     "execution_count": 69,
     "metadata": {},
     "output_type": "execute_result"
    }
   ],
   "execution_count": 69
  },
  {
   "metadata": {
    "ExecuteTime": {
     "end_time": "2024-06-07T11:53:45.786771Z",
     "start_time": "2024-06-07T11:53:45.652089Z"
    }
   },
   "cell_type": "code",
   "source": "grow_df.plot()",
   "id": "dd9d65639e0c6def",
   "outputs": [
    {
     "data": {
      "text/plain": [
       "<Axes: xlabel='Month'>"
      ]
     },
     "execution_count": 70,
     "metadata": {},
     "output_type": "execute_result"
    },
    {
     "data": {
      "text/plain": [
       "<Figure size 640x480 with 1 Axes>"
      ],
      "image/png": "[encoded data removed]"
     },
     "metadata": {},
     "output_type": "display_data"
    }
   ],
   "execution_count": 70
  }
 ],
 "metadata": {
  "kernelspec": {
   "display_name": "Python 3",
   "language": "python",
   "name": "python3"
  },
  "language_info": {
   "codemirror_mode": {
    "name": "ipython",
    "version": 2
   },
   "file_extension": ".py",
   "mimetype": "text/x-python",
   "name": "python",
   "nbconvert_exporter": "python",
   "pygments_lexer": "ipython2",
   "version": "2.7.6"
  }
 },
 "nbformat": 4,
 "nbformat_minor": 5
}
