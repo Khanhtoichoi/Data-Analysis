{
 "cells": [
  {
   "cell_type": "code",
   "id": "ec07c3795509778",
   "metadata": {
    "collapsed": true,
    "jupyter": {
     "is_executing": true
    },
    "ExecuteTime": {
     "start_time": "2024-06-07T12:01:56.961770Z"
    }
   },
   "source": [
    "import csv\n",
    "import datetime\n",
    "from github import Github\n",
    "\n",
    "# using an access token\n",
    "g = Github('Personal Access Token')\n",
    "\n",
    "# Get the repository object\n",
    "repo = g.get_repo('mui/material-ui')\n",
    "# Get all commits in 2023\n",
    "commits = repo.get_commits(since=datetime.datetime(2023,1,1), until=datetime.datetime(2024,1,1))\n",
    "# Create csv\n",
    "csv_file = 'commit_facebook.csv'\n",
    "with open(csv_file, 'w', newline='', encoding='utf-8') as csvfile:\n",
    "    writer = csv.writer(csvfile)\n",
    "    writer.writerow([ 'Author','Commit Message', 'Commited Date', 'Contributor','Files','Passed'])\n",
    "    for commit in commits:\n",
    "        combined_status = repo.get_commit(commit.sha).get_combined_status()\n",
    "        # Get specified data\n",
    "        author = commit.commit.author.name\n",
    "        message = commit.commit.message\n",
    "        contributor = commit.author.login if commit.author else commit.commit.author.name\n",
    "        commited_date = commit.commit.author.date.strftime(\"%Y-%m-%d\")\n",
    "        files = [file.filename for file in commit.files]\n",
    "        passed = 'Success' if all(status.state == 'success' for status in combined_status.statuses) else 'Fail'\n",
    "\n",
    "        # Write to csv_file\n",
    "        writer.writerow([ author, message, commited_date, contributor, files, passed])"
   ],
   "outputs": [],
   "execution_count": null
  },
  {
   "metadata": {
    "ExecuteTime": {
     "end_time": "2024-06-14T05:43:45.355100Z",
     "start_time": "2024-06-14T05:43:44.101830Z"
    }
   },
   "cell_type": "code",
   "source": [
    "languages = repo.get_languages()\n",
    "language_file = 'language.csv'\n",
    "with open(language_file, 'w', newline='', encoding='utf-8') as csvfile:\n",
    "    writer = csv.writer(csvfile)\n",
    "    writer.writerow(['Language', 'Number of Code lines'])\n",
    "    for language,line in languages.items():\n",
    "        writer.writerow([language, line])"
   ],
   "id": "eaba30bc6bca4073",
   "outputs": [],
   "execution_count": 9
  }
 ],
 "metadata": {
  "kernelspec": {
   "display_name": "Python 3",
   "language": "python",
   "name": "python3"
  },
  "language_info": {
   "codemirror_mode": {
    "name": "ipython",
    "version": 2
   },
   "file_extension": ".py",
   "mimetype": "text/x-python",
   "name": "python",
   "nbconvert_exporter": "python",
   "pygments_lexer": "ipython2",
   "version": "2.7.6"
  }
 },
 "nbformat": 4,
 "nbformat_minor": 5
}
